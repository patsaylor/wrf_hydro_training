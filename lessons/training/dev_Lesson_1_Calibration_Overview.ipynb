{
 "cells": [
  {
   "cell_type": "markdown",
   "metadata": {},
   "source": [
    "# Lesson 1 - Calibration Overview"
   ]
  },
  {
   "cell_type": "markdown",
   "metadata": {},
   "source": [
    "### Calibration Overview:\n",
    "\n"
   ]
  },
  {
   "cell_type": "markdown",
   "metadata": {},
   "source": [
    "![WorkFlow_Image_Placeholder](imagename.png \"Image Placeholder for now\")\n"
   ]
  },
  {
   "cell_type": "markdown",
   "metadata": {},
   "source": [
    "Calibration workflow is run through a series of seven individual python scripts, typically run from the command line (terminal). The python scripts must be run in order, and only once the previous script has completed. Brief descriptions of each script are provided below:"
   ]
  },
  {
   "cell_type": "markdown",
   "metadata": {},
   "source": [
    "### Programs & Workflow:"
   ]
  },
  {
   "cell_type": "markdown",
   "metadata": {},
   "source": [
    "*initDB.py:* \n",
    "\n",
    "This program is used one time to initialize the calibration database and associated tables used during the experiment. The upcoming section will describe the database and associated tables in more detail."
   ]
  },
  {
   "cell_type": "markdown",
   "metadata": {},
   "source": [
    "*inputDomainMeta.py:* \n",
    "\n",
    "This program reads in a CSV file you will need to fill out that describes modeling domains to be used for calibration. This information is entered into the database for later workflow use. More description on the CSV will occur during the setup section."
   ]
  },
  {
   "cell_type": "markdown",
   "metadata": {},
   "source": [
    "*jobInit.py:* \n",
    "\n",
    "This program is run to establish a calibration ‘experiment’. The program reads a config file \n",
    "(explained later in the setup section) and sets up the necessary run directories, paths to necessary files, and inputs associated metadata into the database. Upon successful completion, the program will return a unique job ID value which you will use in subsequent programs to run the calibration."
   ]
  },
  {
   "cell_type": "markdown",
   "metadata": {},
   "source": [
    "*getJobID.py:*\n",
    "\n",
    "This program will return the job ID to you in the cases where you have forgotten your unique job ID for the calibration experiment. The calibration config file is used as input into this program.\n",
    "spinup.py: This is the first program that is run to initialize the calibration experiment. The only mandatory argument to this program is the unique job ID for the calibration experiment. The main purpose of this program is to run the NWM/WRF-Hydro spinup for all domains being calibrated. This program needs to successfully complete before moving onto the next step."
   ]
  },
  {
   "cell_type": "markdown",
   "metadata": {},
   "source": [
    "*calib.py:* \n",
    "\n",
    "This is the second program that is run in the calibration workflow. As with spinup.py, the only mandatory argument is the job ID value. This program runs the main workflow to adjust parameter values, execute interim model simulations, evaluate model output against observations, and further adjust parameter values. This program must be completed successfully before moving onto the next step."
   ]
  },
  {
   "cell_type": "markdown",
   "metadata": {},
   "source": [
    "*validation.py:*\n",
    "\n",
    "This is the third and final main program in the calibration workflow. The only mandatory argument is the unique job ID value associated with the calibration experiment. This program manages running the model with the final calibrated parameters over a specified evaluation period for the evaluation of the parameters."
   ]
  },
  {
   "cell_type": "markdown",
   "metadata": {},
   "source": [
    "### Step 1: Configure Setup File: \"setup.parm\""
   ]
  },
  {
   "cell_type": "markdown",
   "metadata": {},
   "source": [
    "User: Navigate to the PyWrfHydroCalib 'setup_files' directory:"
   ]
  },
  {
   "cell_type": "code",
   "execution_count": 3,
   "metadata": {},
   "outputs": [
    {
     "name": "stdout",
     "output_type": "stream",
     "text": [
      "calib_params.tbl\n",
      "domainMetaTemplate.csv\n",
      "gage_list_template.csv\n",
      "sens_params.tbl\n",
      "setup.parm\n"
     ]
    }
   ],
   "source": [
    "%%bash\n",
    "cd /glade/work/arezoo/RFC_Training/RFC_CalibTrain2021/PyWrfHydroCalib/setup_files/\n",
    "ls"
   ]
  },
  {
   "cell_type": "code",
   "execution_count": 15,
   "metadata": {},
   "outputs": [
    {
     "name": "stdout",
     "output_type": "stream",
     "text": [
      "#-------------------------------------------------------#\n",
      "# National Water Model Calibration Configuration\n",
      "# \n",
      "# This configuration file is to be filled out by the\n",
      "# user only once before initiating the calibration\n",
      "# workflow for specified basins. This file will\n",
      "# be used one time to make approprate entries into the\n",
      "# database containing necessary information on the \n",
      "# calibration job. \n",
      "#\n",
      "# Logan Karsten\n",
      "# National Center for Atmospheric Research\n",
      "# Research Applications Laboratory\n",
      "# karsten@ucar.edu\n",
      "# 303-497-2693\n",
      "#-------------------------------------------------------#\n",
      "\n",
      "[logistics]\n",
      "# Top level directory where output from model runs, etc\n",
      "# will be placed. This is essentially your \"job\" directory\n",
      "# containing all the model output, analysis, etc. \n",
      "outDir = /home/cuahsi/calibOut\n",
      "expName = TEST_CALIB\n",
      "acctKey =\n",
      "optQueName =\n",
      "nCoresModel = 4\n",
      "nNodesModel = 1\n",
      "nCoresPerNode = 36\n",
      "# Flag to turn sensitivity analysis on: 0 - Off, 1 - On.\n",
      "runSens = 1 \n",
      "sensParmTbl = /home/cuahsi/PyWrfHydroCalibTest/setup_files/sens_params.tbl\n",
      "# Flag to turn calibration on: 0 - Off, 1 - On.\n",
      "runCalib = 1\n",
      "calibParmTbl = /home/cuahsi/PyWrfHydroCalibTest/setup_files/calib_params.tbl\n",
      "# By default, R code will run hourly analysis on model output. This flag will\n",
      "# direct the R code to run daily statistics instead. This means hourly output\n",
      "# will be aggregated to daily statistics. \n",
      "# 0 - Run hourly stats, 1 - Run daily stats\n",
      "dailyStats = 0\n",
      "\n",
      "# Flag to turn on/off database backup. If on, the database file will be locked and\n",
      "# backed up once an hour during the execution to the job directory output file.\n",
      "dbBackup = 0\n",
      "\n",
      "# This is a flag for the user to bypass the spinup and run calibrations/validations/sensitivity\n",
      "# analysis from cold starts. Note: This is highly discouraged as a spinup allows for\n",
      "# stable hydrologic states: 0 - Off, 1 - On.\n",
      "coldStart = 0\n",
      "# Optional spinup flag for substituting a both land and hydro restart files in place\n",
      "# of a spinup. \n",
      "# NOTE: The user must provide BOTH a hydro and land spinup state in the basin domain\n",
      "#       directories for ALL basins being used in this experiment. Expected \n",
      "#       file naming conventions for the expected restart files are as follows:\n",
      "#       Land:  LandRestartSubstitute.nc\n",
      "#       Hydro: HydroRestartSubstitute.nc\n",
      "# 0 = No substitute spinup files\n",
      "# 1 = Use optional spinup files\n",
      "optSpinFlag = 0\n",
      "\n",
      "# Here we have two additional new flags to allow the user to only\n",
      "# run the model with extremely minimal outputs:\n",
      "# - Monthly restart files, no streamflow output,\n",
      "#   and monthly land output files. \n",
      "# This allows for the model to minimize I/O time during the initial\n",
      "# period of the calibration simulations where no evaluation is taking\n",
      "# place.\n",
      "# Flag to turn option on (1) or off (0)\n",
      "stripCalibOutputs = 0 \n",
      "# Specify the initial time period (hours) for each simulation\n",
      "# to contain minimal output. \n",
      "stripCalibHours = 180\n",
      "\n",
      "# We need to identify the type of system we are working on.\n",
      "# The model, and R jobs can be launched and monitored a variety\n",
      "# of ways. Here are the following options for the launch \n",
      "# method (jobRunType)\n",
      "# 1 - We will launch with bsub and monitor via bjobs command.\n",
      "# 2 - We will launch with qsub and monitor via qstat command.\n",
      "# 3 - We will launch with slurm with srun and monitor via squeue command.\n",
      "# 4 - No job scheduler. Run via MPI.\n",
      "# jobRunType is how you plan on executing the WRF-Hydro simulations\n",
      "jobRunType = 4\n",
      "# Specify the MPI command to use.\n",
      "mpiCmd = \"mpirun -n\"\n",
      "# Specify the CPU pinning command to supplement the MPI command to pin the model\n",
      "# to specific CPUs.\n",
      "cpuPinCmd = \"dplace -c\"\n",
      "\n",
      "# Specify number of model iterations to calibrate over\n",
      "numIter = 3\n",
      "\n",
      "# Specify calibration method (DDS, SCE, etc)\n",
      "calibMethod = DDS\n",
      "\n",
      "# Specify objective function for calibration\n",
      "# Current acceptable values are:\n",
      "# 1.) Rmse\n",
      "# 2.) Nse\n",
      "# 3.) NseLog\n",
      "# 4.) NseWt\n",
      "# 5.) Kge\n",
      "# 6.) Msof\n",
      "# 7.) hyperResMultiObj\n",
      "# 8.) NNseSq\n",
      "# 9.) LBEmPrime\n",
      "# 10.) EventMultiObj\n",
      "objectiveFunction = Nse\n",
      "\n",
      "# DDS specific parameters. Leave blank if not using DDS.\n",
      "ddsR = 0.2\n",
      "\n",
      "# Specify whether to use the mask to mask out some part of the basins from calibrating or not\n",
      "# if enableMask set to 0, no need to provide a mask\n",
      "# if enableMask set to 1, then a mask should be provided on the coarse grid and fine grid, in tif format \n",
      "# and also a csv file containing the GW ComIDs. \n",
      "# the name of the files are hardcoded in the script and they should be located under the domain directory\n",
      "# here are the names: mask.coarse.tif, mask.fine.tif and mask.GWBUCKET.csv\n",
      "# the mask should be set to 1 where we want to keep the parameters as is and set to 0 where\n",
      "# we would like to calibrate the parameters. Note this capability does not exist for sensitivity analysis\n",
      "enableMask = 0\n",
      "#maskFile = mask.coare.tif # expecting exactly this name in the domain dir\n",
      "\n",
      "# Specify whether to calibrate to more than one streamflow gages or not\n",
      "# if enableMultiSite set to 1, a file containing the list of the gages of interest and \n",
      "# the corresponding weights in the calculation of the objective function is required. \n",
      "# Name of the file is hardcoded to \"calib_sites.csv\" that is placed under the domain dir\n",
      "# and contains the following fields:\n",
      "# 1- FID : Feature id of the gage as it appears in the CHANOBS\n",
      "# 2- site_no : site identifier as it appears in the obsStrDate.Rdata file\n",
      "# 3- weight : weight to be given to site when caculating the objective functio\n",
      "enableMultiSites = 0\n",
      "\n",
      "# Specify email to send updates/error messages to.\n",
      "email = john.doe@youremail.com\n",
      "\n",
      "# Specify executable to run. This must be a WRF-Hydro executable. \n",
      "wrfExe = /home/cuahsi/wrfHydroCalibration/wrf_hydro_model/trunk/NDHMS/Run/wrf_hydro.exe\n",
      "\n",
      "# Specify parameter tables to use for Noah-MP\n",
      "genParmTbl = /home/cuahsi/wrfHydroCalibration/04233300/GENPARM.TBL\n",
      "mpParmTbl = /home/cuahsi/wrfHydroCalibration/04233300/MPTABLE.TBL\n",
      "urbParmTbl = /home/cuahsi/wrfHydroCalibration/04233300/URBPARM.TBL\n",
      "vegParmTbl = /home/cuahsi/wrfHydroCalibration/04233300/VEGPARM.TBL\n",
      "soilParmTbl = /home/cuahsi/wrfHydroCalibration/04233300/SOILPARM.TBL\n",
      "\n",
      "# NOTE Date values should be specified in YYYY-MM-DD format.\n",
      "# Specify date range for spinup\n",
      "bSpinDate = 2013-06-01\n",
      "eSpinDate = 2013-07-01\n",
      "\n",
      "# Specify date range for calibration period\n",
      "bCalibDate = 2013-07-01\n",
      "eCalibDate = 2013-08-01\n",
      "bCalibEvalDate = 2013-07-05\n",
      "\n",
      "# Specify date range for validation period\n",
      "bValidDate = 2013-07-01\n",
      "eValidDate = 2013-08-01\n",
      "bValidEvalDate = 2013-07-05\n",
      "\n",
      "[Sensitivity]\n",
      "# Specify parameter sample size\n",
      "sensParmSample = 1\n",
      "\n",
      "# Sending out all model simulations at the same time \n",
      "# may not be ideal for a given system. This option\n",
      "# will break out the sensitivity model runs by batch\n",
      "# number of simulations.\n",
      "sensBatchNum = 1\n",
      "\n",
      "# Specify the date range for the sensitivity period.\n",
      "bSensDate = 2013-07-01\n",
      "eSensDate = 2013-08-01\n",
      "bSensEvalDate = 2013-07-05\n",
      "\n",
      "[gageInfo]\n",
      "# Specify USGS GAGES II basins to calibrate on.\n",
      "# If SQL command desired, leave gageListFile blank.\n",
      "# If file listing gages desired, leave gageListSQL blank.\n",
      "gageListSQL = select * from \"Domain_Meta\";\n",
      "gageListFile =\n",
      "\n",
      "[lsmPhysics]\n",
      "# Output-Specific option\n",
      "# 1 means that it will output 1 file per output time step\n",
      "# 0 means that it will append all the timesteps to one file called LDASOUT_DOMAIN1.nc, right now it is not working\n",
      "SplitOutputCount = 1\n",
      "# namelist.hrldas specific options/flags for NoahMP\n",
      "# Specify the DYNAMIC_VEG_OPTION\n",
      "dynVegOption = 4\n",
      "# Specify the CANOPY_STOMATAL_RESISTANCE_OPTION\n",
      "canStomResOption = 1\n",
      "# Specify the BTR_OPTION\n",
      "btrOption = 1\n",
      "# Specify the RUNOFF_OPTION\n",
      "runoffOption = 3\n",
      "# Specify the SURFACE_DRAG_OPTION\n",
      "sfcDragOption = 1\n",
      "# Specify the FROZEN_SOIL_OPTION\n",
      "frzSoilOption = 1\n",
      "# Specify the SUPERCOOLED_WATER_OPTION \n",
      "supCoolOption = 1\n",
      "# Specify the RADIATIVE_TRANSFER_OPTION\n",
      "radTransferOption = 3\n",
      "# Specify the SNOW_ALBEDO_OPTION\n",
      "snAlbOption = 2\n",
      "# Specify the PCP_PARTITION_OPTION\n",
      "pcpPartOption = 1\n",
      "# Specify the TBOT_OPTION\n",
      "tbotOption = 2\n",
      "# Specify the TEMP_TIME_SCHEME_OPTION\n",
      "tempTimeSchOption = 3\n",
      "# Specify the SURFACE_RESISTENCE_OPTION\n",
      "sfcResOption = 4\n",
      "# Specify the GLACIER_OPTION\n",
      "glacierOption = 2\n",
      "\n",
      "# Specify thickness of NoahMP soil layers. MUST be four layers.\n",
      "soilThick = [0.10,0.30,0.60,1.00]\n",
      "\n",
      "# Specify level (meters) representative of U/V wind.\n",
      "zLvl = 10.0\n",
      "\n",
      "[forcing]\n",
      "# These options will dictate which forcings to use for the workflow.\n",
      "# Specify forcing type        \n",
      "# 1: HRLDAS hourly LDASIN files\n",
      "# 2: HRLDAS minute LDASIN files\n",
      "# 3: WRF output files\n",
      "# 4: Idealized\n",
      "# 5: Ideal with specified supplemental precipitation.\n",
      "# 6: HRLDAS hourly LDASIN files with supplemental precipitation.     \n",
      "forceType = 1\n",
      "\n",
      "[modelTime]\n",
      "# NoahMP Specific time optionss\n",
      "# Specify timestep in seconds\n",
      "# Input forcing timestep\n",
      "forceDt = 3600\n",
      "# NoahMP model timestep\n",
      "lsmDt = 3600\n",
      "# Output frequency of NoahMP LDASOUT files in seconds\n",
      "lsmOutDt = 8640000\n",
      "# Output frequency of NoahMP restart files in seconds.\n",
      "# For monthly restart files, please put -9999 here. \n",
      "lsmRstFreq = 86400\n",
      "\n",
      "# Hydro specific time options\n",
      "# Specify timestep in seconds\n",
      "# Hydro restart output frequency\n",
      "# Place -99999 here for monthly restarts. \n",
      "hydroRstFreq = 86400\n",
      "# Hydro output frequency\n",
      "hydroOutDt = 3600\n",
      "\n",
      "[hydroIO]\n",
      "# Flag for overwriting soil variables from routing restart file (0:Off,1:On)\n",
      "rstType = 1\n",
      "\n",
      "# Output-Specific option\n",
      "# 1 means that it will output 1 file for CHANOB per output time step\n",
      "# 0 means that it will append all the timesteps to one file called CHANOBS_DOMAIN1.nc\n",
      "SplitOutputCount = 0\n",
      "\n",
      "# Output-Specific output flags for outputs\n",
      "# Specify wrfHydro output config.    \n",
      "# 0: All (Default)\n",
      "# 1: Analysis-Assimilation\n",
      "# 2: Short Range\n",
      "# 3: Medium Range                               \n",
      "# 4: Long Range\n",
      "# 5: Retrospective\n",
      "ioConfigOutputs = 1\n",
      "\n",
      "# Flag to configure form of output files. \n",
      "# 1: With scale_factor/add_offset + internal compression\n",
      "# 2: With scale_factor/add_offset + NO internal compression\n",
      "# 3: NO scale_factor/add_offset + internal compression\n",
      "# 4: NO scale_factor/add_offset + NO internal compression\n",
      "ioFormOutputs = 4\n",
      "\n",
      "# Hydro specific output options\n",
      "# Streamflow output  \n",
      "# 0: No output\n",
      "# 1: Output \n",
      "chrtoutDomain = 0\n",
      "\n",
      "# Streamflow NetCDF at forecast points / gage points\n",
      "# 0: No output\n",
      "# 1: Output\n",
      "chanObsDomain = 1\n",
      "\n",
      "# Gridded channel flow    \n",
      "# 0: No output\n",
      "# 1: Output of grided channel streamflow values\n",
      "chrtoutGrid = 0\n",
      "\n",
      "# Gridded LSM output      \n",
      "# 0: No output\n",
      "# 1: Output gridded LSM states from hydro routines.\n",
      "lsmDomain = 0\n",
      "\n",
      "# Terrain grid output    \n",
      "# 0: No output\n",
      "# 1: Output terrain routing variables on routing grid\n",
      "rtoutDomain = 0\n",
      "\n",
      "# Groundwater ouptut     \n",
      "# 0: No output\n",
      "# 1: Output NetCDF file of groundwater buckets\n",
      "gwOut = 0\n",
      "\n",
      "# Lake output      \n",
      "# 0: No output\n",
      "# 1: NetCDF file of lake outputs\n",
      "lakeOut = 0\n",
      "\n",
      "# Text file of streamflow at forecast / gage points\n",
      "# 0: No output\n",
      "# 1: Output\n",
      "frxstOut = 0\n",
      "\n",
      "# Reset restart accumulation variables in hydro files? (0:Off,1:On)\n",
      "resetHydroAcc = 1\n",
      "\n",
      "# Specify order of streamflow to output (0-?)\n",
      "streamOrderOut = 1\n",
      "\n",
      "[hydroPhysics]\n",
      "# Channel routing timestep in seconds\n",
      "dtChSec = 300\n",
      "# Surface and subsurface routing timestep in seconds\n",
      "dtTerSec = 10\n",
      "# Switch for subsurface routing (0:Off,1:On)\n",
      "subRouting = 1\n",
      "# Switch for surface routing (0:Off,1:On)\n",
      "ovrRouting = 1\n",
      "# Switch for channel routing (0:Off,1:On)\n",
      "channelRouting = 1\n",
      "\n",
      "# Overland Routing   \n",
      "# 1: Steepest Descent (D8)\n",
      "# 2: CASC2D\n",
      "rtOpt = 1\n",
      "\n",
      "# Channel Routing    \n",
      "# 1: Muskingam-reach\n",
      "# 2: Muskingam-Cunge-reach\n",
      "# 3: Diffusive Wave-gridded\n",
      "chanRtOpt = 2\n",
      "\n",
      "# Specify user mapping option (1 = NWM)\n",
      "# NOTE: Workflow will expect a mapping file if not 0.\n",
      "# 0: No mapping\n",
      "# 1: User-defined mapping\n",
      "udmpOpt = 1\n",
      "\n",
      "# Groundwater Bucket  \n",
      "# 0: No groundwater bucket activation.\n",
      "# 1: Switch to activate exp. groundwater bucket option\n",
      "# 2: Switch to activate pass-through groundwater bucket option\n",
      "gwBaseSw = 1\n",
      "\n",
      "# Specify to how to initialize groundwater bucket model (0:cold start from table,1:restart file)\n",
      "gwRestart = 0\n",
      "\n",
      "# Specify whether to use compound channel. This is for NWM ONLY. Cannot use with gridded routing.\n",
      "# (0: Turn off, 1: Turn on). The enableCompoundChannel needs to be turned on if this is NWM code.\n",
      "# If community, set to 0 as it will not be placed into the hydro.namelist.\n",
      "enableCompoundChannel = 0\n",
      "compoundChannel = 0\n",
      "\n",
      "# Specify whether to enable the groundwater bucket loss function in the hydro.namelist file.\n",
      "# (0: No option specified in namelist, 1: Place option into namelist).\n",
      "enableGwBucketLoss = 0\n",
      "# Activate the groundwater bucket loss function.\n",
      "# (0: Turn off, 1: Turn on)\n",
      "bucket_loss = 0\n",
      "\n"
     ]
    }
   ],
   "source": [
    "%%bash\n",
    "cd /glade/work/arezoo/RFC_Training/RFC_CalibTrain2021/PyWrfHydroCalib/setup_files/\n",
    "cat setup.parm"
   ]
  },
  {
   "cell_type": "markdown",
   "metadata": {},
   "source": [
    "note file: 'setup.parm' \n",
    "(Users can open a terminal session in jupyter notebook and copy/paste the following command to view this file-->\n",
    "*vi setup.parm*\n"
   ]
  },
  {
   "cell_type": "markdown",
   "metadata": {},
   "source": [
    "### Editing the setup.parm file:\n",
    "\n",
    "The primary file you will be editing in preparation for setting up a calibration workflow job is the ‘setup.parm’ file.\n",
    "\n",
    "It is best to think of this file as a master configuration file to guide the workflow. A template file is located under /setup_files/setup.parm in the PyNWMCalib code repository . \n",
    "\n",
    "This file contains multiple options that define how the workflow will submit jobs for models/analysis, which basins to calibrate from the database, methods for reporting errors to the user, model physics options, and paths to general parameter files and executables."
   ]
  },
  {
   "cell_type": "markdown",
   "metadata": {},
   "source": [
    "The ‘setup.parm’ file is divided up into sections: \n",
    "\n",
    "*logistics*"
   ]
  },
  {
   "cell_type": "markdown",
   "metadata": {},
   "source": [
    "*** insert table of params w/descriptions for each section below"
   ]
  },
  {
   "cell_type": "markdown",
   "metadata": {},
   "source": [
    "*gageInfo*"
   ]
  },
  {
   "cell_type": "markdown",
   "metadata": {},
   "source": [
    "*lsmPhysics*"
   ]
  },
  {
   "cell_type": "markdown",
   "metadata": {},
   "source": [
    "*forcing*"
   ]
  },
  {
   "cell_type": "markdown",
   "metadata": {},
   "source": [
    "*modelTime* "
   ]
  },
  {
   "cell_type": "markdown",
   "metadata": {},
   "source": [
    "*hydroIO*"
   ]
  },
  {
   "cell_type": "markdown",
   "metadata": {},
   "source": [
    "*hydroPhysics* "
   ]
  },
  {
   "cell_type": "markdown",
   "metadata": {},
   "source": [
    "### Step 2: Configure Calibration Parameter Selection \"calib_parms.tbl\""
   ]
  },
  {
   "cell_type": "markdown",
   "metadata": {},
   "source": [
    "In addition to the ‘setup.parm’ file, the ‘calib_parms.tbl’ file is needed to direct the workflow to determine which model parameters will be calibrated, along with the range of parameter values. A template table is located under /setup_files/calib_parms.tbl which you can copy and edit for your own calibration workflow experiment.\n"
   ]
  },
  {
   "cell_type": "code",
   "execution_count": 16,
   "metadata": {},
   "outputs": [
    {
     "name": "stdout",
     "output_type": "stream",
     "text": [
      "parameter,calib_flag,minValue,maxValue,ini\n",
      "bexp,          1,      0.40,      1.90,      1.0\n",
      "smcmax,        1,      0.80,      1.20,      1.0\n",
      "dksat,         1,      0.20,      10.0,      1.0\n",
      "refkdt,        1,      0.10,      4.00,      0.6\n",
      "slope,         1,      0.00,      1.00,      0.1\n",
      "retdeprtfac,   1,      0.10,      10.0,      1.0\n",
      "lksatfac,      1,      10.0,      10000.0,   1000.0\n",
      "zmax,          1,      10.0,      250.0,     25.0\n",
      "expon,         1,      1.00,      8.0,       1.75\n",
      "Coeff,         1,      0.0001,    0.1,       0.001\n",
      "cwpvt,         1,      0.50,      2.0,       1.0\n",
      "vcmx25,        1,      0.60,      1.4,       1.0\n",
      "mp,            1,      0.60,      1.4,       1.0\n",
      "hvt,           1,      0.25,      1.5,       1.0\n",
      "mfsno,         1,      0.50,      2.0,       1.0\n",
      "rsurfexp,      0,      1.0,       6.0,       5.0\n",
      "Bw,            0,      0.1,       10.0,      1.0\n",
      "HLINK,         0,      0.1,       10.0,      1.0\n",
      "ChSSlp,        0,      0.1,       10.0,      1.0\n",
      "MannN,         0,      0.1,       10.0,      1.0\n",
      "Loss,          0,      0.0,       1.0,       0.5\n"
     ]
    }
   ],
   "source": [
    "%%bash\n",
    "cd /glade/work/arezoo/RFC_Training/RFC_CalibTrain2021/PyWrfHydroCalib/setup_files\n",
    "cat calib_params.tbl"
   ]
  },
  {
   "cell_type": "markdown",
   "metadata": {},
   "source": [
    "\n",
    "Within this table, you will find all the potential parameters to calibrate, along with a ‘calib_flag’ of 1 or 0. This flag will turn calibration on (1) for that parameter or off (0). The ‘minValues’ and ‘maxValues’ specify the range of potential parameter values to calibrate over. This template has a broad range of values. The ‘ini’ column specifies the default values to be used for either default un-calibrated values, or the initial values going into the calibration workflow. It is up to you to determine what range is best for your calibration experiment. It is highly encouraged to perform a sensitivity analysis over your region of interest to help determine which parameters have significant impact on hydrologic response.\n"
   ]
  },
  {
   "cell_type": "markdown",
   "metadata": {},
   "source": [
    "## Conclusion:\n",
    "\n",
    "Once the setup.parm file and calibration parameters are set and verified, we can begin the process of initializing databases for calibration. Proceed to *Lesson 2 - Create Database*"
   ]
  },
  {
   "cell_type": "code",
   "execution_count": null,
   "metadata": {},
   "outputs": [],
   "source": []
  },
  {
   "cell_type": "code",
   "execution_count": null,
   "metadata": {},
   "outputs": [],
   "source": [
    "### DEV_ END"
   ]
  }
 ],
 "metadata": {
  "kernelspec": {
   "display_name": "Python 3",
   "language": "python",
   "name": "python3"
  },
  "language_info": {
   "codemirror_mode": {
    "name": "ipython",
    "version": 3
   },
   "file_extension": ".py",
   "mimetype": "text/x-python",
   "name": "python",
   "nbconvert_exporter": "python",
   "pygments_lexer": "ipython3",
   "version": "3.9.4"
  },
  "toc": {
   "base_numbering": 1,
   "nav_menu": {},
   "number_sections": true,
   "sideBar": true,
   "skip_h1_title": true,
   "title_cell": "Table of Contents",
   "title_sidebar": "Contents",
   "toc_cell": true,
   "toc_position": {},
   "toc_section_display": true,
   "toc_window_display": false
  }
 },
 "nbformat": 4,
 "nbformat_minor": 4
}
