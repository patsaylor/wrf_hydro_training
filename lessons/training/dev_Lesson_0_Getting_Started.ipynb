{
 "cells": [
  {
   "cell_type": "markdown",
   "source": [
    "# Lesson 0 - Overview of the training material"
   ],
   "metadata": {}
  },
  {
   "cell_type": "markdown",
   "source": [
    "## Overview\n",
    "The training material focused on providing a hands-on exercise for National Water Model calibration procedure.  The following lessons will provide in depth descriptions of the steps that the user needs to take to setup, run calibration and validate the results. This lesson would provide a short description of few key works and overview of the content of the material provided for this training as well as the required libraries for the calibration procedure.  "
   ],
   "metadata": {}
  },
  {
   "cell_type": "markdown",
   "source": [
    "# What Is It? Defining Key Terms:\n",
    "## WRF-Hydro: \n",
    "An open-source community model, is used for a range of projects, including flash flood prediction, regional hydroclimate impacts assessment, seasonal forecasting of water resources, and land-atmosphere coupling studies. For more information visit [WRF-Hydro webpage](https://ral.ucar.edu/projects/wrf_hydro/overview). \n",
    "\n",
    "## The National Water Model (NWM):\n",
    "A joint development effort between the National Center for Atmospheric Research (NCAR) and the National Weather Service (NWS) Office of Water Prediction (OWP). The NWM is a set of operational analysis and forecast configurations of the WRF-Hydro modeling system (Gochis et al., 2013) which runs over the entire continental United States (https://water.noaa.gov/about/nwm). \n",
    "\n",
    "## PyWrfHydroCalib:\n",
    "A robust workflow for calibrating parameters over individual basins with a focus on automating the process for hundreds of cutout basins in the NWM domain. This document set of exercises describe the various steps involved in setting up a WRF-Hydro calibration experiment, along with how to execute the calibration workflow and access the various results from it. This version of the calibration workflow is under development for the NWMv30 RnD, and has many added features compared to the NWMv21 calibration code. If features the following added tools: \n",
    "* Added diagnostic metrics\n",
    "* Step wise calibration for nested gages\n",
    "* Multi gage calibration (providing weights to each gage)\n",
    "* Snow calibration (currently under testing)\n",
    "* Soil moisture calibration (currently under testing)\n",
    "In the previous versions, only streamflow observations were used in the calibration objective function, however, there is currently added capability to calibrate to snow and soil moisture as well. There are experiments underway to evaluate the impact of calibrating not only to streamflow but also to other hydrologic states and a subset of results will be shared in this training in a lecture.  "
   ],
   "metadata": {}
  },
  {
   "cell_type": "markdown",
   "source": [
    "# Prerequisites:\n",
    "* Installation of the WRF-Hydro/NWM modeling system. The model has been compiled for the use in the training. \n",
    "\n",
    "* Preparation of a modeling domain. \n",
    "\n",
    "* Preparation of associated forcing files necessary to run the model simulations.\n",
    "\n",
    "* Preparation of input observation files that will be used in the calibration workflow. Further detail regarding required input files can be found in the PyWrfHydroCalib can be found in the User Manual. \n",
    "\n",
    "** --> All of these files are provided for you in this training. "
   ],
   "metadata": {}
  },
  {
   "cell_type": "markdown",
   "source": [
    "# Navigating the Example File Structure:\n",
    "All the needed the material for this trainings are provided in the image. Below is a summary of the content of the materials. Let's check out the content of the directory. "
   ],
   "metadata": {}
  },
  {
   "cell_type": "code",
   "execution_count": null,
   "source": [
    "%%bash\n",
    "cd /glade/work/arezoo/RFC_Training/RFC_CalibTrain2021/\n",
    "ls"
   ],
   "outputs": [
    {
     "output_type": "stream",
     "name": "stdout",
     "text": [
      "example_case\n",
      "PyWrfHydroCalib\n",
      "wrf_hydro_nwm_public\n"
     ]
    }
   ],
   "metadata": {}
  },
  {
   "cell_type": "markdown",
   "source": [
    "< we need to add more info on the content of the files>\n"
   ],
   "metadata": {}
  },
  {
   "cell_type": "markdown",
   "source": [
    "wrf_hydro_nwm_public -- contains wrf-hydro code repository"
   ],
   "metadata": {}
  },
  {
   "cell_type": "code",
   "execution_count": null,
   "source": [
    "%%bash\n",
    "cd /glade/work/arezoo/RFC_Training/RFC_CalibTrain2021/wrf_hydro_nwm_public/\n",
    "ls"
   ],
   "outputs": [
    {
     "output_type": "stream",
     "name": "stdout",
     "text": [
      "CODE_OF_CONDUCT.md\n",
      "LICENSE.txt\n",
      "NEWS.md\n",
      "README.md\n",
      "tests\n",
      "trunk\n"
     ]
    }
   ],
   "metadata": {}
  },
  {
   "cell_type": "markdown",
   "source": [
    "examle case ... we want to provide the overview of the test case here: "
   ],
   "metadata": {}
  },
  {
   "cell_type": "code",
   "execution_count": null,
   "source": [
    "%%bash\n",
    "cd /glade/work/arezoo/RFC_Training/RFC_CalibTrain2021/example_case/Calibration/Input_Files/01447720/\n",
    "ls"
   ],
   "outputs": [
    {
     "output_type": "stream",
     "name": "stdout",
     "text": [
      "FORCING\n",
      "Fulldom.nc\n",
      "geo_em.nc\n",
      "GEOGRID_LDASOUT_Spatial_Metadata.nc\n",
      "GWBUCKPARM.nc\n",
      "HYDRO_TBL_2D.nc\n",
      "LAKEPARM.nc\n",
      "OBS\n",
      "params.txt\n",
      "RouteLink.nc\n",
      "script_forcing_subset.txt\n",
      "script_forcing_subset.txt_NWM_REALTIME\n",
      "soil_properties.nc\n",
      "spatialweights.nc\n",
      "wrfinput.nc\n"
     ]
    }
   ],
   "metadata": {}
  },
  {
   "cell_type": "markdown",
   "source": [
    "PyWrfHydroCalib  -- contains calibration scripts, and user setup files"
   ],
   "metadata": {}
  },
  {
   "cell_type": "code",
   "execution_count": null,
   "source": [
    "%%bash\n",
    "cd /glade/work/arezoo/RFC_Training/RFC_CalibTrain2021/PyWrfHydroCalib/\n",
    "ls"
   ],
   "outputs": [
    {
     "output_type": "stream",
     "name": "stdout",
     "text": [
      "calibOrchestrator.py\n",
      "calib.py\n",
      "core\n",
      "initDB.py\n",
      "inputDomainMeta.py\n",
      "jobInit.py\n",
      "LICENSE.md\n",
      "PyWrfHydroCalib_User_Guide.pdf\n",
      "README.md\n",
      "runValidOrchestrator.py\n",
      "sensitivity.py\n",
      "setup_files\n",
      "spinOrchestrator.py\n",
      "spinup.py\n",
      "util\n",
      "validation.py\n",
      "validOrchestrator.py\n"
     ]
    }
   ],
   "metadata": {}
  },
  {
   "cell_type": "code",
   "execution_count": null,
   "source": [
    "%%bash\n",
    "cd /glade/work/arezoo/RFC_Training/RFC_CalibTrain2021/PyWrfHydroCalib/setup_files/\n",
    "ls"
   ],
   "outputs": [
    {
     "output_type": "stream",
     "name": "stdout",
     "text": [
      "calib_params.tbl\n",
      "domainMetaTemplate.csv\n",
      "gage_list_template.csv\n",
      "sens_params.tbl\n",
      "setup.parm\n"
     ]
    }
   ],
   "metadata": {}
  },
  {
   "cell_type": "markdown",
   "source": [
    "# PyWrfHydroCalib System Requirement\n",
    "## Background Knowledge:\n",
    "Calibration is an advanced topic that goes beyond setting up the NWM or WRF-Hydro for a model simulation. Some understanding of the preparation of datasets, hydrologic parameters, and their associated impact on model states is needed. You will decide which parameters to calibrate, along with the proper ranges, domain size, and the length of the calibration simulation/evaluation period. It is highly encouraged that you run sensitivity analysis for the modeling domain to explore which parameters have significant impact on the modeled states being calibrated.\n",
    "## Software and conventions\n",
    "### Python Packages:\n",
    "To run the calibration workflow, there are multiple software requirements and pre-processing steps that need to take place prior to actual calibration. Currently, the calibration workflow relies on a set of Python and R libraries to execute various functions and plotting capabilities. This is in addition to existing requirements to compile and run WRF-Hydro/NWM. As of early 2019, the calibration workflow code has been migrated from Python 2 to Python 3. The following Python libraries are used by the workflow:\n",
    "1.) numpy\n",
    "2.) NetCDF4 (for Python)\n",
    "3.) pandas\n",
    "4.) psutil\n",
    "5.) psycopg2\n"
   ],
   "metadata": {}
  },
  {
   "cell_type": "code",
   "execution_count": null,
   "source": [
    "# Optional: Verify Python Libraries\n",
    "import numpy\n",
    "import netCDF4\n",
    "import pandas\n",
    "import psutil\n",
    "import psycopg2\n",
    "import xarray\n",
    "print('all python packages accounted for')"
   ],
   "outputs": [],
   "metadata": {}
  },
  {
   "cell_type": "markdown",
   "source": [
    "### R Libraries\n",
    "For R, there are several additional libraries required for proper analysis and plotting to take place. In the future, functions in R will be migrated over to Python to reduce dependencies. The following R libraries are needed for proper execution:\n",
    "\n",
    "1.) data.table\n",
    "2.) ggplot2\n",
    "3.) ncdf4\n",
    "4.) plyr\n",
    "5.) boot\n",
    "6.) sensitivity\n",
    "7.) randtoolbox\n",
    "8.) gridExtra\n",
    "9.) hydroGOF\n",
    "10.) zoo\n",
    "11.) qmap\n",
    "\n",
    "** Further information on code requirements, and links to required packages can be found within the User Manual."
   ],
   "metadata": {}
  },
  {
   "cell_type": "code",
   "execution_count": null,
   "source": [
    "# Verify R libraries (for Jupyter notebook on Cheyenne, switch to R kernel for now, will be updated for docker notebook)\n",
    "library(data.table)\n",
    "library(ggplot2)\n",
    "library(ncdf4)\n",
    "library(plyr)\n",
    "library(boot)\n",
    "library(sensitivity)\n",
    "library(randtoolbox)\n",
    "library(gridExtra)\n",
    "library(hydroGOF)\n",
    "library(zoo)\n",
    "library(qmap)"
   ],
   "outputs": [],
   "metadata": {}
  },
  {
   "cell_type": "markdown",
   "source": [
    "## Conclusion:\n",
    "\n",
    "Once all Input and Setup files are prepared, and verified, we can begin the process of setting up a calibration. Proceed to *Lesson 1 - Calibration Overview*"
   ],
   "metadata": {}
  },
  {
   "cell_type": "code",
   "execution_count": null,
   "source": [
    "### DEV_ END"
   ],
   "outputs": [],
   "metadata": {}
  }
 ],
 "metadata": {
  "kernelspec": {
   "display_name": "Python 3",
   "language": "python",
   "name": "python3"
  },
  "language_info": {
   "codemirror_mode": {
    "name": "ipython",
    "version": 3
   },
   "file_extension": ".py",
   "mimetype": "text/x-python",
   "name": "python",
   "nbconvert_exporter": "python",
   "pygments_lexer": "ipython3",
   "version": "3.9.4"
  },
  "toc": {
   "base_numbering": 1,
   "nav_menu": {},
   "number_sections": true,
   "sideBar": true,
   "skip_h1_title": true,
   "title_cell": "Table of Contents",
   "title_sidebar": "Contents",
   "toc_cell": true,
   "toc_position": {},
   "toc_section_display": true,
   "toc_window_display": false
  }
 },
 "nbformat": 4,
 "nbformat_minor": 4
}