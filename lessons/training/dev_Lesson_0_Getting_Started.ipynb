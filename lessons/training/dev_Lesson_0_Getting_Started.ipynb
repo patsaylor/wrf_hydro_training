{
 "cells": [
  {
   "cell_type": "markdown",
   "metadata": {},
   "source": [
    "# Lesson 0 - Getting Started"
   ]
  },
  {
   "cell_type": "markdown",
   "metadata": {},
   "source": [
    "## Overview\n",
    "\n",
    "In this lesson, we will run a hands-on calibration experiment with the Poconos watershed. Specifically, we will be calibrating the basin using observed and modeled streamflow at gage: \n",
    "\n",
    "<<01447720. This calibration exercise will focus on a short duration in September, 2011 coinciding with Hurricane Irene. We will be running a 25 iteration calibration exercise. >> * to be edited *\n",
    "\n",
    "The calibration procedure relies on a python library named PyWrfHydroCalib, which explicitly handles the setup, model tuning, and provides diagnostics supporting the calibration process. This lesson is intended to provide a 10,000ft overview of the calibration process, system requirements, and workflow.\n",
    "\n"
   ]
  },
  {
   "cell_type": "markdown",
   "metadata": {},
   "source": [
    "# What Is It? Defining Key Terms:\n",
    "#### WRF-Hydro: \n",
    "An open-source community model, is used for a range of projects, including flash flood prediction, regional hydroclimate impacts assessment, seasonal forecasting of water resources, and land-atmosphere coupling studies. \n",
    "\n",
    "#### The National Water Model (NWM):\n",
    "A joint development effort between the National Center for Atmospheric Research (NCAR) and the National Weather Service (NWS) Office of Water Prediction (OWP). The NWM is a set of operational analysis and forecast configurations of the WRF-Hydro modeling system (Gochis et al., 2013) which runs over the entire continental United States (https://water.noaa.gov/about/nwm). \n",
    "\n",
    "#### PyWrfHydroCalib:\n",
    "A robust workflow for calibrating parameters over individual basins occurred with a focus on automating the process for hundreds of forecast points in the NWM domain. This document set of exercises describe the various steps involved in setting up a WRF-Hydro calibration experiment, along with how to execute the calibration workflow and access the various results from it. This version of the calibration workflow has been designed to calibrate against observed streamflow. However, future iterations will expand the focus to calibrate against other observed hydrologic states, such as snow, inundation, and soil moisture.\n"
   ]
  },
  {
   "cell_type": "markdown",
   "metadata": {},
   "source": [
    "# System Requirements"
   ]
  },
  {
   "cell_type": "markdown",
   "metadata": {},
   "source": [
    "### Background Knowledge:\n",
    "Calibration is an advanced topic that goes beyond setting up the NWM or WRF-Hydro for a model simulation. Some understanding of the preparation of datasets, hydrologic parameters, and their associated impact on model states is needed. You will decide which parameters to calibrate, along with the proper ranges, domain size, and the length of the calibration simulation/evaluation period. It is highly encouraged that you run sensitivity analysis for the modeling domain to explore which parameters have significant impact on the modeled states being calibrated.\n",
    "\n",
    "\n",
    "### Software and conventions\n",
    "#### Python Packages:\n",
    "To run the calibration workflow, there are multiple software requirements and pre-processing steps that need to take place prior to actual calibration. Currently, the calibration workflow relies on a set of Python and R libraries to execute various functions and plotting capabilities. This is in addition to existing requirements to compile and run WRF-Hydro/NWM. As of early 2019, the calibration workflow code has been migrated from Python 2 to Python 3. The following Python libraries are used by the workflow:\n",
    "\n",
    "1.) numpy\n",
    "2.) NetCDF4 (for Python)\n",
    "3.) pandas\n",
    "4.) psutil\n",
    "5.) psycopg2\n"
   ]
  },
  {
   "cell_type": "code",
   "execution_count": null,
   "metadata": {},
   "outputs": [],
   "source": [
    "# Optional: Verify Python Libraries\n",
    "import numpy\n",
    "import netCDF4\n",
    "import pandas\n",
    "import psutil\n",
    "import psycopg2\n",
    "print('all python packages accounted for')"
   ]
  },
  {
   "cell_type": "markdown",
   "metadata": {},
   "source": [
    "#### R Libraries\n",
    "For R, there are several additional libraries required for proper analysis and plotting to take place. In the future, functions in R will be migrated over to Python to reduce dependencies. The following R libraries are needed for proper execution:\n",
    "\n",
    "1.) data.table\n",
    "2.) ggplot2\n",
    "3.) ncdf4\n",
    "4.) plyr\n",
    "5.) boot\n",
    "6.) sensitivity\n",
    "7.) randtoolbox\n",
    "8.) gridExtra\n",
    "9.) hydroGOF\n",
    "\n",
    "** Further information on code requirements, and links to required packages can be found within the User Manual."
   ]
  },
  {
   "cell_type": "code",
   "execution_count": 5,
   "metadata": {},
   "outputs": [
    {
     "ename": "ERROR",
     "evalue": "Error in library(data.table): there is no package called ‘data.table’\n",
     "execution_count": 5,
     "output_type": "error",
     "traceback": [
      "Error in library(data.table): there is no package called ‘data.table’\nTraceback:\n",
      "1. library(data.table)",
      "2. stop(txt, domain = NA)"
     ]
    }
   ],
   "source": [
    "# Verify R libraries (for Jupyter notebook on Cheyenne, switch to R kernel for now, will be updated for docker notebook)\n",
    "library(data.table)\n",
    "library(ggplot2)\n",
    "library(ncdf4)\n",
    "library(plyr)\n",
    "library(boot)\n",
    "library(sensitivity)\n",
    "library(randtoolbox)\n",
    "library(gridExtra)\n",
    "library(hydroGOF)"
   ]
  },
  {
   "cell_type": "markdown",
   "metadata": {},
   "source": [
    "### Prerequisites:\n",
    "1] Installation of the WRF-Hydro/NWM modeling system (use a version that is pointed out in the release notes of the package) See the 'WRF-Hydro Technical Description and User Guide' available from the WRF-Hydro Modeling System website for details: https://ral.ucar.edu/projects/wrf_hydro.\n",
    "\n",
    "2**] Preparation of a modeling domain with a forecast streamflow point\n",
    "\n",
    "3**] Preparation of associated forcing files necessary to run the model simulations\n",
    "\n",
    "4**] Preparation of input observation files that will be used in the calibration workflow. Further detail regarding required input files can be found in the PyWrfHydroCalib can be found in the User Manual. \n",
    "\n",
    "** --> All of these files are provided for you in this training. Preparation of these files are detailed in supplemental lessons S1,S2,S3"
   ]
  },
  {
   "cell_type": "markdown",
   "metadata": {},
   "source": [
    "### Additional Files (Mandatory):\n",
    "\n",
    "In addition to compiling the WRF-Hydro code, there are a set of parameter NetCDF files that are generated from the GIS pre-processor (see WRF-Hydro user guides and documentation) that are modified during the calibration workflow. The following parameter files from the output of the WRF-Hydro GIS Preprocessing tool, which are unique to each modeling domain, are needed in addition to the regular input files for the calibration:\n",
    "\n",
    "*soil_properties.nc* :\n",
    "A 2D soil property file that contains values impacting sub-surface hydrologic response.\n",
    "\n",
    "*Fulldom.nc* :\n",
    "The 2D geospatial fabric utilized for the high-resolution routing.\n",
    "\n",
    "*GWBUCKPARM.nc* : \n",
    "The 2D NetCDF groundwater bucket parameter file.\n",
    "\n",
    "*HYDRO_TBL_2D.nc* :\n",
    "The 2D NetCDF of surface hydrologic parameters impacting hydrologic response for overland flow routing.\n",
    "\n",
    "*CHANPARM.TBL* :\n",
    "The table file containing the channel properties in case the user is calibrating the channel properties using the CHANPARM.TBL\n"
   ]
  },
  {
   "cell_type": "code",
   "execution_count": null,
   "metadata": {},
   "outputs": [],
   "source": [
    "# LINUX SHELL:\n",
    "#<Display path to Domain & input dirs, showing input paths -- update once container established>"
   ]
  },
  {
   "cell_type": "code",
   "execution_count": 6,
   "metadata": {},
   "outputs": [
    {
     "name": "stdout",
     "output_type": "stream",
     "text": [
      "FORCING\n",
      "Fulldom.nc\n",
      "geo_em.nc\n",
      "GEOGRID_LDASOUT_Spatial_Metadata.nc\n",
      "GWBUCKPARM.nc\n",
      "HYDRO_TBL_2D.nc\n",
      "LAKEPARM.nc\n",
      "OBS\n",
      "params.txt\n",
      "RouteLink.nc\n",
      "script_forcing_subset.txt\n",
      "script_forcing_subset.txt_NWM_REALTIME\n",
      "soil_properties.nc\n",
      "spatialweights.nc\n",
      "wrfinput.nc\n"
     ]
    }
   ],
   "source": [
    "%%bash\n",
    "ls /glade/work/arezoo/RFC_Training/RFC_CalibTrain2021/example_case/Calibration/Input_Files/01447720/"
   ]
  },
  {
   "cell_type": "markdown",
   "metadata": {},
   "source": [
    "### Navigating the Example File Structure:\n",
    "\n",
    "Within the main Directory, there are 3 subdirectories:"
   ]
  },
  {
   "cell_type": "code",
   "execution_count": 10,
   "metadata": {},
   "outputs": [
    {
     "name": "stdout",
     "output_type": "stream",
     "text": [
      "example_case\n",
      "PyWrfHydroCalib\n",
      "wrf_hydro_nwm_public\n"
     ]
    }
   ],
   "source": [
    "%%bash\n",
    "cd /glade/work/arezoo/RFC_Training/RFC_CalibTrain2021/\n",
    "ls"
   ]
  },
  {
   "cell_type": "markdown",
   "metadata": {},
   "source": [
    "example_case -- contains all domain and input files:\n"
   ]
  },
  {
   "cell_type": "code",
   "execution_count": 17,
   "metadata": {},
   "outputs": [
    {
     "name": "stdout",
     "output_type": "stream",
     "text": [
      "FORCING\n",
      "Fulldom.nc\n",
      "geo_em.nc\n",
      "GEOGRID_LDASOUT_Spatial_Metadata.nc\n",
      "GWBUCKPARM.nc\n",
      "HYDRO_TBL_2D.nc\n",
      "LAKEPARM.nc\n",
      "OBS\n",
      "params.txt\n",
      "RouteLink.nc\n",
      "script_forcing_subset.txt\n",
      "script_forcing_subset.txt_NWM_REALTIME\n",
      "soil_properties.nc\n",
      "spatialweights.nc\n",
      "wrfinput.nc\n"
     ]
    }
   ],
   "source": [
    "%%bash\n",
    "cd /glade/work/arezoo/RFC_Training/RFC_CalibTrain2021/example_case/Calibration/Input_Files/01447720/\n",
    "ls"
   ]
  },
  {
   "cell_type": "markdown",
   "metadata": {},
   "source": [
    "PyWrfHydroCalib  -- contains calibration scripts, and user setup files"
   ]
  },
  {
   "cell_type": "code",
   "execution_count": 18,
   "metadata": {},
   "outputs": [
    {
     "name": "stdout",
     "output_type": "stream",
     "text": [
      "calibOrchestrator.py\n",
      "calib.py\n",
      "core\n",
      "initDB.py\n",
      "inputDomainMeta.py\n",
      "jobInit.py\n",
      "LICENSE.md\n",
      "PyWrfHydroCalib_User_Guide.pdf\n",
      "README.md\n",
      "runValidOrchestrator.py\n",
      "sensitivity.py\n",
      "setup_files\n",
      "spinOrchestrator.py\n",
      "spinup.py\n",
      "util\n",
      "validation.py\n",
      "validOrchestrator.py\n"
     ]
    }
   ],
   "source": [
    "%%bash\n",
    "cd /glade/work/arezoo/RFC_Training/RFC_CalibTrain2021/PyWrfHydroCalib/\n",
    "ls"
   ]
  },
  {
   "cell_type": "code",
   "execution_count": 19,
   "metadata": {},
   "outputs": [
    {
     "name": "stdout",
     "output_type": "stream",
     "text": [
      "calib_params.tbl\n",
      "domainMetaTemplate.csv\n",
      "gage_list_template.csv\n",
      "sens_params.tbl\n",
      "setup.parm\n"
     ]
    }
   ],
   "source": [
    "%%bash\n",
    "cd /glade/work/arezoo/RFC_Training/RFC_CalibTrain2021/PyWrfHydroCalib/setup_files/\n",
    "ls"
   ]
  },
  {
   "cell_type": "markdown",
   "metadata": {},
   "source": [
    "wrf_hydro_nwm_public -- contains wrf-hydro code repository"
   ]
  },
  {
   "cell_type": "code",
   "execution_count": 22,
   "metadata": {},
   "outputs": [
    {
     "name": "stdout",
     "output_type": "stream",
     "text": [
      "CODE_OF_CONDUCT.md\n",
      "LICENSE.txt\n",
      "NEWS.md\n",
      "README.md\n",
      "tests\n",
      "trunk\n"
     ]
    }
   ],
   "source": [
    "%%bash\n",
    "cd /glade/work/arezoo/RFC_Training/RFC_CalibTrain2021/wrf_hydro_nwm_public/\n",
    "ls"
   ]
  },
  {
   "cell_type": "markdown",
   "metadata": {},
   "source": [
    "## Conclusion:\n",
    "\n",
    "Once all Input and Setup files are prepared, and verified, we can begin the process of setting up a calibration. Proceed to *Lesson 1 - Calibration Overview*"
   ]
  },
  {
   "cell_type": "code",
   "execution_count": null,
   "metadata": {},
   "outputs": [],
   "source": []
  },
  {
   "cell_type": "code",
   "execution_count": null,
   "metadata": {},
   "outputs": [],
   "source": []
  },
  {
   "cell_type": "code",
   "execution_count": null,
   "metadata": {},
   "outputs": [],
   "source": [
    "### DEV_ END"
   ]
  }
 ],
 "metadata": {
  "kernelspec": {
   "display_name": "Python 3",
   "language": "python",
   "name": "python3"
  },
  "language_info": {
   "codemirror_mode": {
    "name": "ipython",
    "version": 3
   },
   "file_extension": ".py",
   "mimetype": "text/x-python",
   "name": "python",
   "nbconvert_exporter": "python",
   "pygments_lexer": "ipython3",
   "version": "3.9.4"
  },
  "toc": {
   "base_numbering": 1,
   "nav_menu": {},
   "number_sections": true,
   "sideBar": true,
   "skip_h1_title": true,
   "title_cell": "Table of Contents",
   "title_sidebar": "Contents",
   "toc_cell": true,
   "toc_position": {},
   "toc_section_display": true,
   "toc_window_display": false
  }
 },
 "nbformat": 4,
 "nbformat_minor": 4
}
