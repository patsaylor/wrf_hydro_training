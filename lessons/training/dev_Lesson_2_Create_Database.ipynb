{
 "cells": [
  {
   "cell_type": "markdown",
   "metadata": {},
   "source": [
    "# Lesson 2 - Create Database"
   ]
  },
  {
   "cell_type": "markdown",
   "metadata": {},
   "source": [
    "### Initialize Model\n",
    "\n",
    "Once you are satisfied with the ‘setup.parm’ file and ‘calib_parms.tbl’ (discussed in Lesson 1), you are ready to initialize your experiment using ‘jobInit.py’. \n",
    "\n",
    "This program will use the parameter table, along with the setup.parm file and the specified job ID by user. \n",
    "\n",
    "For this example, we have pre-configured the parameters set in the setup.parm files to match this exercise. \n",
    "\n",
    "After making any desired changes to the setup files, Enter the following command:\n"
   ]
  },
  {
   "cell_type": "code",
   "execution_count": null,
   "metadata": {},
   "outputs": [],
   "source": [
    "%%bash\n",
    "python PATH/TO/PyWrfHydroCalib/jobInit.py PATH/TO/setup.parm --optExpID JobID --optDbPath PATH/TO/DATABASE.db"
   ]
  },
  {
   "cell_type": "markdown",
   "metadata": {},
   "source": [
    "##### Important Note :\n",
    "\n",
    "JobID needs to be an integer number. The program does some broad checking of options entered into the ‘setup.parm’ file to make sure they make reasonable sense before proceeding. However, it is up to you to ensure you are choosing the right modeling options for your experiment. Once the program has completed successfully, it will return the newly created job ID value to you.\n"
   ]
  },
  {
   "cell_type": "markdown",
   "metadata": {},
   "source": [
    "##### What Happens:\n",
    "1] Each Domain specified in the 'Domain Meta' table is now populated as a subdirectory named by the 'gageID' listed in table 'Domain_Meta', at the location specified in 'setup.parm' file.\n",
    "\n",
    "2] Each Domain Directory contains the following subdirectories:\n",
    "\n",
    "\n"
   ]
  },
  {
   "cell_type": "markdown",
   "metadata": {},
   "source": [
    "| SubDirectory Name | Description |\n",
    "| ------------- | ------------- |\n",
    "| FORCING | A symbolic link to the forcing directory for this particular basin |\n",
    "| OBS | The directory containing symbolic links to the observation files necessary for the calibration workflow |\n",
    "| RUN.CALIB | The directory that contains output for the calibration iterations. |\n",
    "|RUN.SPINUP|The directory that contains output for the calibration spinup. |\n",
    "|RUN.VALID|The directory that contains output for the calibration validation.|"
   ]
  },
  {
   "cell_type": "code",
   "execution_count": null,
   "metadata": {},
   "outputs": [],
   "source": [
    "%%bash\n",
    " # ***INSERT BASH accessing file directory here ***"
   ]
  },
  {
   "cell_type": "code",
   "execution_count": null,
   "metadata": {},
   "outputs": [],
   "source": [
    "### include graphic of directory tree showing the location of these folders"
   ]
  },
  {
   "cell_type": "markdown",
   "metadata": {},
   "source": [
    "### Overview:\n",
    "In this lesson, we will create a SQL database that stores all of the necessary and auxiliary metadata for the calibration experiments, and ultimately the final results of the basin calibration. Initialization of the database requires manual entry of basin metadata. The structure and setup of the basin will be detailed below.\n",
    "\n"
   ]
  },
  {
   "cell_type": "markdown",
   "metadata": {},
   "source": [
    "Upon completion of the jobInit.py program, a database called ‘wrfHydroCalib_DB’ is established in SQL. It contains several tables that can be utilized by you as well as in the workflow. In addition to the database being established, a ‘user’ called ‘WH_Calib_rw’ is created for access to the database. The following empty tables are created in the NWM_Calib_DB database:"
   ]
  },
  {
   "cell_type": "markdown",
   "metadata": {},
   "source": [
    "| Database Table | Description | \n",
    "| ------------- | ------------- |\n",
    "|*Domain_Meta*|  Contains metadata about each basin/domain you are using in your calibration efforts. There is no limit to how many ‘domains’ you can enter in here as it depends on the scope of the experiment. Information is entered into this table by the inputDomainMeta.py program. |\n",
    "| *Job_Meta* | contains metadata about the calibration experiment being run. This information is entered into the table when jobInit.py is successfully run to completion. Key table variables (calib_complete, valid_complete, su_complete) are updated throughout the calibration workflow as specific tasks are completed. Additionally, other table variables from this table are used during the workflow to create necessary namelist files and symbolic links to the necessary input files to execute the model. Note that there are a few more columns which are related to the sensitivity analysis available in the package, slack messaging and job submission properties that are not explained here.  |\n",
    "| *Job_Params* | describes the various parameters chosen for calibration for this particular experiment across all the basins. |\n",
    "| *Calib_Params* | a dynamic table updated as the calibration workflow works through the model iterations. The table describes the parameter values calculated after every model iteration and stores them in this table. |\n",
    "| *Calib_Stats* | a dynamic table updated as the calibration workflow works through the model iterations. The table describes the analysis statistics for each model iteration, along with a status value that aids the workflow in monitoring jobs.  |\n",
    "| *Valid_Stats* | is a table that describes the error metrics associated with both the default parameter values chosen at the beginning of the experiment, along with the final calibrated values |\n"
   ]
  },
  {
   "cell_type": "markdown",
   "metadata": {},
   "source": [
    "### Step 1: Initialize Database:"
   ]
  },
  {
   "cell_type": "markdown",
   "metadata": {},
   "source": [
    "Execute the initDB.py program. \n",
    "Run the following command:\n"
   ]
  },
  {
   "cell_type": "code",
   "execution_count": null,
   "metadata": {},
   "outputs": [],
   "source": [
    "%%bash\n",
    "python PATH/TO/PyWrfHydroCalib/initDB.py --optDbPath PATH/TO/DATABASE.db"
   ]
  },
  {
   "cell_type": "markdown",
   "metadata": {},
   "source": [
    "*Important Note*: Remember you only need to execute this program once. If you try to run it again, you will receive an error indicating you have already created the database:\n",
    "“ERROR: PATH/TO/DATABASE.db Already Exists. ”\n"
   ]
  },
  {
   "cell_type": "markdown",
   "metadata": {},
   "source": [
    "### Step 2: Populate Database\n"
   ]
  },
  {
   "cell_type": "markdown",
   "metadata": {},
   "source": [
    "*domainMetaTemplate.csv*, contained within the setup_files, is required to be manually entered by the user. Follow *THIS HYPERLINK* to view all of the required parameters:\n"
   ]
  },
  {
   "cell_type": "markdown",
   "metadata": {},
   "source": [
    "##### Required Fields:"
   ]
  },
  {
   "cell_type": "markdown",
   "metadata": {},
   "source": [
    "| Filename | Example | Description | \n",
    "| ------------- | ------------- | ------------- |\n",
    "| site_no | TBD | the gage-id number, typically associated with the top directory for that individual domain | \n",
    "| link | TBD | the designation of which gage in a basin is used for evaulation |\n",
    "| dirname |  TBD | Specifies the path to the directory name where associated output files are generated and stored |\n"
   ]
  },
  {
   "cell_type": "markdown",
   "metadata": {},
   "source": [
    "*Potential errors may arise if:*\n",
    "\n",
    "*You did not enter the correct number of columns into the .csv file\n",
    "The directory you entered for the input domain files does not exist.\n",
    "Expected files within the directory (FORCING subdirectory, geogrid, Fulldom, etc.) do not exist.\n",
    "The headers in the .csv file are not the expected format the program is expecting, or contain the incorrect header column names. This is why it is recommended to simply make a copy of the template file included and edit it appropriately for your basins.*\n"
   ]
  },
  {
   "cell_type": "markdown",
   "metadata": {},
   "source": [
    "### Step 3: Initialize Model\n",
    "\n",
    "Once you are satisfied with the ‘setup.parm’ file and ‘calib_parms.tbl’ (discussed in Lesson 1), you are ready to initialize your experiment using ‘jobInit.py’. \n",
    "\n",
    "This program will use the parameter table, along with the setup.parm file and the specified job ID by user. \n",
    "\n",
    "For this example, we have pre-configured the parameters set in the setup.parm files to match this exercise. \n",
    "\n",
    "After making any desired changes to the setup files, Enter the following command:\n"
   ]
  },
  {
   "cell_type": "code",
   "execution_count": null,
   "metadata": {},
   "outputs": [],
   "source": [
    "%%bash\n",
    "python PATH/TO/PyWrfHydroCalib/jobInit.py PATH/TO/setup.parm --optExpID JobID --optDbPath PATH/TO/DATABASE.db"
   ]
  },
  {
   "cell_type": "markdown",
   "metadata": {},
   "source": [
    "##### Important Note :\n",
    "\n",
    "JobID needs to be an integer number. The program does some broad checking of options entered into the ‘setup.parm’ file to make sure they make reasonable sense before proceeding. However, it is up to you to ensure you are choosing the right modeling options for your experiment. Once the program has completed successfully, it will return the newly created job ID value to you.\n"
   ]
  },
  {
   "cell_type": "markdown",
   "metadata": {},
   "source": [
    "##### What Happens:\n",
    "1] Each Domain specified in the 'Domain Meta' table is now populated as a subdirectory named by the 'gageID' listed in table 'Domain_Meta', at the location specified in 'setup.parm' file.\n",
    "\n",
    "2] Each Domain Directory contains the following subdirectories:\n",
    "\n",
    "\n"
   ]
  },
  {
   "cell_type": "markdown",
   "metadata": {},
   "source": [
    "| SubDirectory Name | Description |\n",
    "| ------------- | ------------- |\n",
    "| FORCING | A symbolic link to the forcing directory for this particular basin |\n",
    "| OBS | The directory containing symbolic links to the observation files necessary for the calibration workflow |\n",
    "| RUN.CALIB | The directory that contains output for the calibration iterations. |\n",
    "|RUN.SPINUP|The directory that contains output for the calibration spinup. |\n",
    "|RUN.VALID|The directory that contains output for the calibration validation.|"
   ]
  },
  {
   "cell_type": "code",
   "execution_count": null,
   "metadata": {},
   "outputs": [],
   "source": [
    "%%bash\n",
    " # ***INSERT BASH accessing file directory here ***"
   ]
  },
  {
   "cell_type": "code",
   "execution_count": null,
   "metadata": {},
   "outputs": [],
   "source": [
    "### include graphic of directory tree showing the location of these folders"
   ]
  },
  {
   "cell_type": "markdown",
   "metadata": {},
   "source": [
    "## Conclusion:\n",
    "\n",
    "Once all Input and Setup files are prepared, and verified, we can begin the process of setting up a calibration. Proceed to *Lesson x - title next lesson*"
   ]
  },
  {
   "cell_type": "code",
   "execution_count": null,
   "metadata": {},
   "outputs": [],
   "source": []
  },
  {
   "cell_type": "code",
   "execution_count": null,
   "metadata": {},
   "outputs": [],
   "source": [
    "### DEV_ END"
   ]
  }
 ],
 "metadata": {
  "kernelspec": {
   "display_name": "Python 3",
   "language": "python",
   "name": "python3"
  },
  "language_info": {
   "codemirror_mode": {
    "name": "ipython",
    "version": 3
   },
   "file_extension": ".py",
   "mimetype": "text/x-python",
   "name": "python",
   "nbconvert_exporter": "python",
   "pygments_lexer": "ipython3",
   "version": "3.9.4"
  },
  "toc": {
   "base_numbering": 1,
   "nav_menu": {},
   "number_sections": true,
   "sideBar": true,
   "skip_h1_title": true,
   "title_cell": "Table of Contents",
   "title_sidebar": "Contents",
   "toc_cell": true,
   "toc_position": {},
   "toc_section_display": true,
   "toc_window_display": false
  }
 },
 "nbformat": 4,
 "nbformat_minor": 4
}
